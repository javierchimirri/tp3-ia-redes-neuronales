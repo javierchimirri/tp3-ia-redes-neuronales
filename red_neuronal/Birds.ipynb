{
 "cells": [
  {
   "cell_type": "code",
   "execution_count": 1,
   "metadata": {},
   "outputs": [],
   "source": [
    "import os\r\n",
    "import sys\r\n",
    "\r\n",
    "from keras.preprocessing.image import ImageDataGenerator \r\n",
    "# https://keras.io/api/preprocessing/image/#image-data-preprocessing\r\n",
    "from keras.applications.imagenet_utils import preprocess_input\r\n",
    "\r\n",
    "from keras.models import VGG19\r\n",
    "from keras.layers import Dense, Conv2D, MaxPool2D, Flatten\r\n",
    "from keras.activations import relu, sigmoid\r\n",
    "\r\n",
    "from keras.optimizers import Adam\r\n",
    "from keras.losses import categorical_hinge\r\n",
    "from keras.metrics import accuracy\r\n",
    "\r\n",
    "import matplotlib.pyplot as plt"
   ]
  },
  {
   "cell_type": "code",
   "execution_count": 2,
   "metadata": {},
   "outputs": [
    {
     "name": "stdout",
     "output_type": "stream",
     "text": [
      "OK\n"
     ]
    }
   ],
   "source": [
    "pathTrain = './../dataset/train'\r\n",
    "pathTest = './../dataset/test'\r\n",
    "\r\n",
    "if (os.path.exists(pathTrain) and os.path.exists(pathTest)):\r\n",
    "    print('OK')\r\n",
    "else:\r\n",
    "    print('No existen carpetas')"
   ]
  },
  {
   "cell_type": "code",
   "execution_count": 3,
   "metadata": {},
   "outputs": [
    {
     "name": "stdout",
     "output_type": "stream",
     "text": [
      "Found 39364 images belonging to 275 classes.\n",
      "Found 1375 images belonging to 275 classes.\n"
     ]
    }
   ],
   "source": [
    "images_increased = 5\r\n",
    "width_shape = 224\r\n",
    "height_shape = 224\r\n",
    "batch_size = 32\r\n",
    "\r\n",
    "train_datagen = ImageDataGenerator(\r\n",
    "    rotation_range=20, # rota 20 grados\r\n",
    "    zoom_range=0.2, # zoom\r\n",
    "    width_shift_range=0.1, # desplazar 10%\r\n",
    "    height_shift_range=0.1,  # desplazar 10%\r\n",
    "    horizontal_flip=True, # invertir horizontalmente\r\n",
    "    vertical_flip=False,\r\n",
    "    preprocessing_function=preprocess_input\r\n",
    ")\r\n",
    "\r\n",
    "valid_datagen = ImageDataGenerator(    \r\n",
    "    rotation_range=20,\r\n",
    "    zoom_range=0.2,\r\n",
    "    width_shift_range=0.1,\r\n",
    "    height_shift_range=0.1,\r\n",
    "    horizontal_flip=True,\r\n",
    "    vertical_flip=False,\r\n",
    "    preprocessing_function=preprocess_input)\r\n",
    "\r\n",
    "train_generator = train_datagen.flow_from_directory(  \r\n",
    "    pathTrain,\r\n",
    "    target_size=(width_shape, height_shape),\r\n",
    "    batch_size=batch_size,\r\n",
    "    class_mode='categorical')\r\n",
    "\r\n",
    "validation_generator = valid_datagen.flow_from_directory(  \r\n",
    "    pathTest,\r\n",
    "    target_size=(width_shape, height_shape),\r\n",
    "    batch_size=batch_size,\r\n",
    "    class_mode='categorical')"
   ]
  },
  {
   "cell_type": "code",
   "execution_count": 4,
   "metadata": {},
   "outputs": [
    {
     "name": "stdout",
     "output_type": "stream",
     "text": [
      "Model: \"sequential\"\n",
      "_________________________________________________________________\n",
      "Layer (type)                 Output Shape              Param #   \n",
      "=================================================================\n",
      "conv2d (Conv2D)              (None, 222, 222, 33)      924       \n",
      "_________________________________________________________________\n",
      "conv2d_1 (Conv2D)            (None, 220, 220, 32)      9536      \n",
      "_________________________________________________________________\n",
      "max_pooling2d (MaxPooling2D) (None, 110, 110, 32)      0         \n",
      "_________________________________________________________________\n",
      "conv2d_2 (Conv2D)            (None, 108, 108, 64)      18496     \n",
      "_________________________________________________________________\n",
      "conv2d_3 (Conv2D)            (None, 106, 106, 64)      36928     \n",
      "_________________________________________________________________\n",
      "max_pooling2d_1 (MaxPooling2 (None, 53, 53, 64)        0         \n",
      "_________________________________________________________________\n",
      "flatten (Flatten)            (None, 179776)            0         \n",
      "_________________________________________________________________\n",
      "dense (Dense)                (None, 64)                11505728  \n",
      "_________________________________________________________________\n",
      "dense_1 (Dense)              (None, 23)                1495      \n",
      "_________________________________________________________________\n",
      "dense_2 (Dense)              (None, 10)                240       \n",
      "_________________________________________________________________\n",
      "dense_3 (Dense)              (None, 1)                 11        \n",
      "=================================================================\n",
      "Total params: 11,573,358\n",
      "Trainable params: 11,573,358\n",
      "Non-trainable params: 0\n",
      "_________________________________________________________________\n"
     ]
    }
   ],
   "source": [
    "model = VGG19()\r\n",
    "\r\n",
    "inputShape = (height_shape, width_shape, 3)\r\n",
    "\r\n",
    "model.add(Conv2D(filters=33, kernel_size=(3,3), input_shape=inputShape))\r\n",
    "model.add(Conv2D(filters=32, kernel_size=(3,3)))\r\n",
    "model.add(MaxPool2D())\r\n",
    "\r\n",
    "model.add(Conv2D(filters=64, kernel_size=(3,3)))\r\n",
    "model.add(Conv2D(filters=64, kernel_size=(3,3)))\r\n",
    "model.add(MaxPool2D())\r\n",
    "\r\n",
    "model.add(Flatten())\r\n",
    "\r\n",
    "model.add(Dense(64, activation=relu))\r\n",
    "model.add(Dense(23, activation=relu))\r\n",
    "model.add(Dense(10, activation=relu))\r\n",
    "model.add(Dense(1, activation=sigmoid))\r\n",
    "\r\n",
    "model.summary()"
   ]
  },
  {
   "cell_type": "code",
   "execution_count": 5,
   "metadata": {},
   "outputs": [],
   "source": [
    "adam = Adam(learning_rate=0.001)\r\n",
    "\r\n",
    "model.compile(\r\n",
    "    optimizer=adam,\r\n",
    "    loss=categorical_hinge,\r\n",
    "    metrics=[accuracy]\r\n",
    ")"
   ]
  },
  {
   "cell_type": "code",
   "execution_count": 6,
   "metadata": {},
   "outputs": [
    {
     "name": "stdout",
     "output_type": "stream",
     "text": [
      "Epoch 1/10\n",
      "50/50 [==============================] - 185s 3s/step - loss: 1.0000 - accuracy: 4.5538e-04 - val_loss: 1.0000 - val_accuracy: 5.2893e-06\n",
      "Epoch 2/10\n",
      "38/50 [=====================>........] - ETA: 34s - loss: 1.0000 - accuracy: 0.0015"
     ]
    }
   ],
   "source": [
    "epoch = 10\r\n",
    "\r\n",
    "history = model.fit(\r\n",
    "    train_generator,\r\n",
    "    steps_per_epoch=50,\r\n",
    "    validation_data=validation_generator,\r\n",
    "    epochs=epoch\r\n",
    ")"
   ]
  },
  {
   "cell_type": "code",
   "execution_count": null,
   "metadata": {},
   "outputs": [
    {
     "data": {
      "image/png": "[encoded data removed]",
      "text/plain": [
       "<Figure size 432x288 with 1 Axes>"
      ]
     },
     "metadata": {
      "needs_background": "light"
     },
     "output_type": "display_data"
    }
   ],
   "source": [
    "history.history\n",
    "plt.plot(range(len(history.history['loss'])), history.history['loss'], color='red')\n",
    "plt.plot(range(len(history.history['val_loss'])), history.history['val_loss'], color='blue')\n",
    "\n",
    "plt.show()"
   ]
  }
 ],
 "metadata": {
  "interpreter": {
   "hash": "e615f74c41e8e1ca263dcf64b553c2a8dc914662b9a5cd387d2912ba1abbb957"
  },
  "kernelspec": {
   "display_name": "Python 3.9.6 64-bit",
   "name": "python3"
  },
  "language_info": {
   "codemirror_mode": {
    "name": "ipython",
    "version": 3
   },
   "file_extension": ".py",
   "mimetype": "text/x-python",
   "name": "python",
   "nbconvert_exporter": "python",
   "pygments_lexer": "ipython3",
   "version": "3.9.6"
  },
  "orig_nbformat": 4
 },
 "nbformat": 4,
 "nbformat_minor": 2
}