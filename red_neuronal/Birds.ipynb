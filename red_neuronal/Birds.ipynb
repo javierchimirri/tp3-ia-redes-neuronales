{
 "cells": [
  {
   "cell_type": "code",
   "execution_count": null,
   "metadata": {},
   "outputs": [],
   "source": [
    "import os\r\n",
    "import sys\r\n",
    "from PIL import Image\r\n",
    "sys.modules['Image'] = Image\r\n",
    "from keras.preprocessing.image import ImageDataGenerator \r\n",
    "# https://keras.io/api/preprocessing/image/#image-data-preprocessing\r\n",
    "from keras.applications.imagenet_utils import preprocess_input\r\n",
    "\r\n",
    "from keras.models import Sequential\r\n",
    "from keras.layers import Dense, Conv2D, MaxPool2D, Flatten\r\n",
    "from keras.activations import relu, sigmoid\r\n",
    "\r\n",
    "from keras.optimizers import Adam\r\n",
    "from keras.losses import binary_crossentropy\r\n",
    "from keras.metrics import accuracy\r\n",
    "\r\n",
    "import matplotlib.pyplot as plt"
   ]
  },
  {
   "cell_type": "code",
   "execution_count": null,
   "metadata": {},
   "outputs": [],
   "source": [
    "pathTrain = './../dataset/train'\r\n",
    "pathTest = './../dataset/test'\r\n",
    "\r\n",
    "if (os.path.exists(pathTrain) and os.path.exists(pathTest)):\r\n",
    "    print('OK')\r\n",
    "else:\r\n",
    "    print('No existen carpetas')"
   ]
  },
  {
   "cell_type": "code",
   "execution_count": null,
   "metadata": {},
   "outputs": [],
   "source": [
    "images_increased = 5\r\n",
    "width_shape = 224\r\n",
    "height_shape = 224\r\n",
    "batch_size = 32\r\n",
    "\r\n",
    "train_datagen = ImageDataGenerator(\r\n",
    "    rotation_range=20, # rota 20 grados\r\n",
    "    zoom_range=0.2, # zoom\r\n",
    "    width_shift_range=0.1, # desplazar 10%\r\n",
    "    height_shift_range=0.1,  # desplazar 10%\r\n",
    "    horizontal_flip=True, # invertir horizontalmente\r\n",
    "    vertical_flip=False,\r\n",
    "    preprocessing_function=preprocess_input\r\n",
    ")\r\n",
    "\r\n",
    "valid_datagen = ImageDataGenerator(    \r\n",
    "    rotation_range=20,\r\n",
    "    zoom_range=0.2,\r\n",
    "    width_shift_range=0.1,\r\n",
    "    height_shift_range=0.1,\r\n",
    "    horizontal_flip=True,\r\n",
    "    vertical_flip=False,\r\n",
    "    preprocessing_function=preprocess_input)\r\n",
    "\r\n",
    "train_generator = train_datagen.flow_from_directory(  \r\n",
    "    pathTrain,\r\n",
    "    target_size=(width_shape, height_shape),\r\n",
    "    batch_size=batch_size,\r\n",
    "    class_mode='categorical')\r\n",
    "\r\n",
    "validation_generator = valid_datagen.flow_from_directory(  \r\n",
    "    pathTest,\r\n",
    "    target_size=(width_shape, height_shape),\r\n",
    "    batch_size=batch_size,\r\n",
    "    class_mode='categorical')"
   ]
  },
  {
   "cell_type": "code",
   "execution_count": null,
   "metadata": {},
   "outputs": [],
   "source": [
    "model = Sequential()\n",
    "\n",
    "inputShape = (height_shape, width_shape, 3)\n",
    "\n",
    "model.add(Conv2D(filters=33, kernel_size=(3,3), input_shape=inputShape))\n",
    "model.add(Conv2D(filters=32, kernel_size=(3,3)))\n",
    "model.add(MaxPool2D())\n",
    "\n",
    "model.add(Conv2D(filters=64, kernel_size=(3,3)))\n",
    "model.add(Conv2D(filters=64, kernel_size=(3,3)))\n",
    "model.add(MaxPool2D())\n",
    "\n",
    "model.add(Flatten())\n",
    "\n",
    "model.add(Dense(64, activation=relu))\n",
    "model.add(Dense(23, activation=relu))\n",
    "model.add(Dense(1, activation=sigmoid))\n",
    "\n",
    "model.summary()"
   ]
  },
  {
   "cell_type": "code",
   "execution_count": null,
   "metadata": {},
   "outputs": [],
   "source": [
    "adam = Adam(learning_rate=0.001)\n",
    "\n",
    "model.compile(\n",
    "    optimizer=adam,\n",
    "    loss=binary_crossentropy,\n",
    "    metrics=[accuracy]\n",
    ")"
   ]
  },
  {
   "cell_type": "code",
   "execution_count": null,
   "metadata": {},
   "outputs": [],
   "source": [
    "epoch = 500\r\n",
    "\r\n",
    "history = model.fit(\r\n",
    "    train_generator,\r\n",
    "    validation_data=validation_generator,\r\n",
    "    epochs=epoch\r\n",
    ")"
   ]
  },
  {
   "cell_type": "code",
   "execution_count": null,
   "metadata": {},
   "outputs": [],
   "source": [
    "history.history\n",
    "plt.plot(range(len(history.history['loss'])), history.history['loss'], color='red')\n",
    "plt.plot(range(len(history.history['val_loss'])), history.history['val_loss'], color='blue')\n",
    "\n",
    "plt.show()"
   ]
  }
 ],
 "metadata": {
  "interpreter": {
   "hash": "e615f74c41e8e1ca263dcf64b553c2a8dc914662b9a5cd387d2912ba1abbb957"
  },
  "kernelspec": {
   "display_name": "Python 3.9.6 64-bit",
   "name": "python3"
  },
  "language_info": {
   "codemirror_mode": {
    "name": "ipython",
    "version": 3
   },
   "file_extension": ".py",
   "mimetype": "text/x-python",
   "name": "python",
   "nbconvert_exporter": "python",
   "pygments_lexer": "ipython3",
   "version": "3.9.6"
  },
  "orig_nbformat": 4
 },
 "nbformat": 4,
 "nbformat_minor": 2
}