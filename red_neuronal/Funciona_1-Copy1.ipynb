{
 "cells": [
  {
   "cell_type": "code",
   "execution_count": null,
   "metadata": {},
   "outputs": [],
   "source": [
    "import os\n",
    "import tensorflow as tf\n",
    "from tensorflow import keras\n"
   ]
  },
  {
   "cell_type": "code",
   "execution_count": null,
   "metadata": {},
   "outputs": [],
   "source": [
    "from tensorflow.keras.preprocessing.image import ImageDataGenerator \r\n",
    "# https://keras.io/api/preprocessing/image/#image-data-preprocessing\r\n",
    "from tensorflow.keras.applications.imagenet_utils import preprocess_input\r\n",
    "from tensorflow.keras.applications import InceptionV3, ResNet101V2\r\n",
    "from tensorflow.keras.models import Sequential\r\n",
    "from tensorflow.keras.layers import Dense, Conv3D, MaxPool3D, Flatten, Activation, BatchNormalization\r\n",
    "from tensorflow.keras.activations import relu, sigmoid\r\n",
    "\r\n",
    "from tensorflow.keras.optimizers import Adam\r\n",
    "from tensorflow.keras.losses import binary_crossentropy\r\n",
    "from tensorflow.keras.metrics import Accuracy as accuracy\r\n",
    "\r\n",
    "import matplotlib.pyplot as plt\r\n",
    "\r\n",
    "from tensorflow.keras import applications\r\n",
    "from tensorflow.keras import optimizers\r\n",
    "from tensorflow.keras.utils import to_categorical\r\n",
    "from tensorflow.keras.models import Model, load_model\r\n",
    "from tensorflow.keras.layers import Dropout, Flatten, Dense\r\n",
    "from tensorflow.keras.preprocessing.image import ImageDataGenerator\r\n",
    "from tensorflow.keras.callbacks import ModelCheckpoint, EarlyStopping"
   ]
  },
  {
   "cell_type": "code",
   "execution_count": null,
   "metadata": {},
   "outputs": [],
   "source": [
    "pathTrain = './../dataset/train'\r\n",
    "pathTest = './../dataset/test'\r\n",
    "\r\n",
    "if (os.path.exists(pathTrain) and os.path.exists(pathTest)):\r\n",
    "    print('OK')\r\n",
    "else:\r\n",
    "    print('No existen carpetas')\r\n",
    "    print('Descomprima el archivo catdog.zip o puede descargar otro dataset: https://www.kaggle.com/arpitjain007/dog-vs-cat-fastai')"
   ]
  },
  {
   "cell_type": "code",
   "execution_count": null,
   "metadata": {},
   "outputs": [],
   "source": [
    "image_size = (224, 224)\r\n",
    "images_increased = 5\r\n",
    "width_shape = 224\r\n",
    "height_shape = 224\r\n",
    "batch_size = 32\r\n",
    "\r\n",
    "train_ds = tf.keras.preprocessing.image_dataset_from_directory(\r\n",
    "    pathTrain,\r\n",
    "    labels = \"inferred\",\r\n",
    "    validation_split=0.2,\r\n",
    "    subset=\"training\",\r\n",
    "    seed=1337,\r\n",
    "    image_size=image_size,\r\n",
    "    batch_size=batch_size,\r\n",
    ")\r\n",
    "val_ds = tf.keras.preprocessing.image_dataset_from_directory(\r\n",
    "    pathTest,\r\n",
    "    labels= \"inferred\",\r\n",
    "    validation_split=0.2,\r\n",
    "    subset=\"validation\",\r\n",
    "    seed=1337,\r\n",
    "    image_size=image_size,\r\n",
    "    batch_size=batch_size,\r\n",
    ")"
   ]
  },
  {
   "cell_type": "code",
   "execution_count": null,
   "metadata": {},
   "outputs": [],
   "source": [
    "plt.figure(figsize=(10, 10))\n",
    "for images, labels in train_ds.take(1):\n",
    "    for i in range(9):\n",
    "        ax = plt.subplot(3, 3, i + 1)\n",
    "        plt.imshow(images[i].numpy().astype(\"uint8\"))\n",
    "        plt.title(int(labels[i]))\n",
    "        plt.axis(\"off\")"
   ]
  },
  {
   "cell_type": "code",
   "execution_count": null,
   "metadata": {},
   "outputs": [],
   "source": [
    "num_classes = 275\r\n",
    "convlayer=ResNet101V2(input_shape=(224,224,3),weights='imagenet',include_top=False)\r\n",
    "for layer in convlayer.layers:\r\n",
    "    layer.trainable=False\r\n",
    "model = Sequential()\r\n",
    "model.add(convlayer)\r\n",
    "model.add(Dropout(0.5))\r\n",
    "model.add(Flatten())\r\n",
    "model.add(BatchNormalization())\r\n",
    "model.add(Dense(2048,kernel_initializer='he_uniform'))\r\n",
    "model.add(BatchNormalization())\r\n",
    "model.add(Activation('relu'))\r\n",
    "model.add(Dropout(0.5))\r\n",
    "model.add(Dense(1024,kernel_initializer='he_uniform'))\r\n",
    "model.add(BatchNormalization())\r\n",
    "model.add(Activation('relu'))\r\n",
    "model.add(Dropout(0.5))\r\n",
    "model.add(Dense(275,activation='softmax'))\r\n",
    "model.summary()\r\n",
    "model.compile(optimizer =optimizers.Adam(learning_rate=0.01),\r\n",
    "               loss = 'sparse_categorical_crossentropy',\r\n",
    "               metrics = ['accuracy'])\r\n",
    "\r\n",
    "history = model.fit(\r\n",
    "    train_ds,\r\n",
    "    epochs=50,\r\n",
    "    steps_per_epoch=50,\r\n",
    "    validation_data=val_ds,\r\n",
    "    validation_steps=20,\r\n",
    "    verbose = 1,\r\n",
    "    callbacks=[EarlyStopping(monitor='accuracy', patience=5, restore_best_weights= True)])\r\n",
    "\r\n",
    "test_loss, test_acc = model.evaluate_generator(train_ds, steps = 20)\r\n",
    "print('test_acc:', test_acc)"
   ]
  },
  {
   "cell_type": "code",
   "execution_count": null,
   "metadata": {},
   "outputs": [],
   "source": [
    "history.history\n",
    "plt.plot(range(len(history.history['loss'])), history.history['loss'], color='red')\n",
    "plt.plot(range(len(history.history['val_loss'])), history.history['val_loss'], color='blue')\n",
    "plt.show()"
   ]
  }
 ],
 "metadata": {
  "interpreter": {
   "hash": "e615f74c41e8e1ca263dcf64b553c2a8dc914662b9a5cd387d2912ba1abbb957"
  },
  "kernelspec": {
   "display_name": "Python 3.9.6 64-bit",
   "name": "python3"
  },
  "language_info": {
   "codemirror_mode": {
    "name": "ipython",
    "version": 3
   },
   "file_extension": ".py",
   "mimetype": "text/x-python",
   "name": "python",
   "nbconvert_exporter": "python",
   "pygments_lexer": "ipython3",
   "version": "3.9.6"
  }
 },
 "nbformat": 4,
 "nbformat_minor": 2
}